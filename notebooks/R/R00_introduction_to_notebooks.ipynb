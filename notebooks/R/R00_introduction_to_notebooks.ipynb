{
  "nbformat": 4,
  "nbformat_minor": 0,
  "metadata": {
    "colab": {
      "name": "R00_introduction_to_notebooks.ipynb",
      "provenance": [],
      "collapsed_sections": []
    },
    "kernelspec": {
      "name": "ir",
      "display_name": "R"
    }
  },
  "cells": [
    {
      "cell_type": "markdown",
      "metadata": {
        "id": "HnKx50tv5aZD"
      },
      "source": [
        "##### Copyright 2018 The TensorFlow Authors, 2020 Sheffield RSE"
      ]
    },
    {
      "cell_type": "code",
      "metadata": {
        "cellView": "form",
        "id": "IwtS_OXU5cWG"
      },
      "source": [
        "#@title Licensed under the Apache License, Version 2.0 (the \"License\");\n",
        "# you may not use this file except in compliance with the License.\n",
        "# You may obtain a copy of the License at\n",
        "#\n",
        "# https://www.apache.org/licenses/LICENSE-2.0\n",
        "#\n",
        "# Unless required by applicable law or agreed to in writing, software\n",
        "# distributed under the License is distributed on an \"AS IS\" BASIS,\n",
        "# WITHOUT WARRANTIES OR CONDITIONS OF ANY KIND, either express or implied.\n",
        "# See the License for the specific language governing permissions and\n",
        "# limitations under the License."
      ],
      "execution_count": null,
      "outputs": []
    },
    {
      "cell_type": "markdown",
      "metadata": {
        "id": "jpcCBMx95i6v"
      },
      "source": [
        "# Lab 0 **Introduction to R in Colab**"
      ]
    },
    {
      "cell_type": "markdown",
      "metadata": {
        "id": "_wJ2E7jV5tN5"
      },
      "source": [
        "<table class=\"tfo-notebook-buttons\" align=\"left\">\n",
        "  <td>\n",
        "    <a target=\"_blank\" href=\"https://colab.research.google.com/github/rses-dl-course/rses-dl-course.github.io/blob/master/notebooks/R/R00_introduction_to_notebooks.ipynb\"><img src=\"https://www.tensorflow.org/images/colab_logo_32px.png\" />Run in Google Colab</a>\n",
        "  </td>\n",
        "  <td>\n",
        "    <a target=\"_blank\" href=\"https://github.com/rses-dl-course/rses-dl-course.github.io/blob/master/notebooks/R/R00_introduction_to_notebooks.ipynb\"><img src=\"https://www.tensorflow.org/images/GitHub-Mark-32px.png\" />View source on GitHub</a>\n",
        "  </td>\n",
        "</table>"
      ]
    },
    {
      "cell_type": "markdown",
      "metadata": {
        "id": "F8YVA_634OFk"
      },
      "source": [
        "Welcome to this Colab where you will get a quick introduction to the R programming language and the environment used for the course's exercises: Colab.\n",
        "\n",
        "Colab is generally used as a Python development environment that runs in the browser using Google Cloud. The python versions of notebooks are more feature rich. However, **a kernel for working in R is also available, which we are working in now!**\n",
        "\n",
        "For example, to print \"Hello World\", just hover the mouse over [ ] and press the play button to the upper left. Or press shift-enter to execute."
      ]
    },
    {
      "cell_type": "code",
      "metadata": {
        "colab": {
          "base_uri": "https://localhost:8080/"
        },
        "id": "eA_kmFqJ6GIW",
        "outputId": "39353e1e-f666-4f82-e868-800a074862c3"
      },
      "source": [
        "print(\"Hello World!\")"
      ],
      "execution_count": 1,
      "outputs": [
        {
          "output_type": "stream",
          "text": [
            "[1] \"Hello World!\"\n"
          ],
          "name": "stdout"
        }
      ]
    },
    {
      "cell_type": "markdown",
      "metadata": {
        "id": "aa6e0uHi6lKX"
      },
      "source": [
        "## Functions, Conditionals, and Iteration\n",
        "Let's create an R function, and call it from a loop."
      ]
    },
    {
      "cell_type": "code",
      "metadata": {
        "id": "l7MLd_6n6m-c"
      },
      "source": [
        "hello_world_xy <- function(x, y){\n",
        "    if(x < 10){\n",
        "      print(\"Hello World, x was < 10\")\n",
        "    } else if(x < 20) {\n",
        "     print(\"Hello World, x was >= 10 but < 20\")\n",
        "    } else {\n",
        "      print(\"Hello World, x was >= 20\")\n",
        "    }\n",
        "    x + y\n",
        "}"
      ],
      "execution_count": 10,
      "outputs": []
    },
    {
      "cell_type": "code",
      "metadata": {
        "colab": {
          "base_uri": "https://localhost:8080/",
          "height": 170
        },
        "id": "7Gnb-rKE7qG0",
        "outputId": "a6180113-1543-4a5f-dfa8-1e01b90035de"
      },
      "source": [
        "sequence <- seq(8, 23, by =  5)\n",
        "sequence\n",
        "for(i in sequence){\n",
        "  print(paste(\"--- Now running with i:\", i))\n",
        "  hello_world_xy(i, i)\n",
        "}"
      ],
      "execution_count": 11,
      "outputs": [
        {
          "output_type": "display_data",
          "data": {
            "text/plain": [
              "[1]  8 13 18 23"
            ],
            "text/latex": "\\begin{enumerate*}\n\\item 8\n\\item 13\n\\item 18\n\\item 23\n\\end{enumerate*}\n",
            "text/markdown": "1. 8\n2. 13\n3. 18\n4. 23\n\n\n",
            "text/html": [
              "<style>\n",
              ".list-inline {list-style: none; margin:0; padding: 0}\n",
              ".list-inline>li {display: inline-block}\n",
              ".list-inline>li:not(:last-child)::after {content: \"\\00b7\"; padding: 0 .5ex}\n",
              "</style>\n",
              "<ol class=list-inline><li>8</li><li>13</li><li>18</li><li>23</li></ol>\n"
            ]
          },
          "metadata": {
            "tags": []
          }
        },
        {
          "output_type": "stream",
          "text": [
            "[1] \"--- Now running with i: 8\"\n",
            "[1] \"Hello World, x was < 10\"\n",
            "[1] \"--- Now running with i: 13\"\n",
            "[1] \"Hello World, x was >= 10 but < 20\"\n",
            "[1] \"--- Now running with i: 18\"\n",
            "[1] \"Hello World, x was >= 10 but < 20\"\n",
            "[1] \"--- Now running with i: 23\"\n",
            "[1] \"Hello World, x was >= 20\"\n"
          ],
          "name": "stdout"
        }
      ]
    },
    {
      "cell_type": "markdown",
      "metadata": {
        "id": "UrZJt1pFBwft"
      },
      "source": [
        "To print also print the function output, we need to use function `print()`\n",
        "\n"
      ]
    },
    {
      "cell_type": "code",
      "metadata": {
        "colab": {
          "base_uri": "https://localhost:8080/"
        },
        "id": "mILSpZWs8jsL",
        "outputId": "d670ac0a-7b51-4d1f-cc81-836654eb6faf"
      },
      "source": [
        "print(hello_world_xy(1, 2))"
      ],
      "execution_count": 12,
      "outputs": [
        {
          "output_type": "stream",
          "text": [
            "[1] \"Hello World, x was < 10\"\n",
            "[1] 3\n"
          ],
          "name": "stdout"
        }
      ]
    },
    {
      "cell_type": "markdown",
      "metadata": {
        "id": "ATBp0cgz83z4"
      },
      "source": [
        "## Installing packages\n",
        "\n",
        "We can install packages in the usual way. The library however is not persistent between different sessions and notebooks so you will need to install dependencies for each notebook and session."
      ]
    },
    {
      "cell_type": "markdown",
      "metadata": {
        "id": "a_hw7tAzYFxJ"
      },
      "source": [
        "Let's install and load the `ggplot2` library."
      ]
    },
    {
      "cell_type": "code",
      "metadata": {
        "id": "-r35cOcXRWoZ",
        "colab": {
          "base_uri": "https://localhost:8080/"
        },
        "outputId": "5c83f101-15bf-40ef-fa4b-472c9bc8a9e7"
      },
      "source": [
        "install.packages(\"ggplot2\")"
      ],
      "execution_count": 14,
      "outputs": [
        {
          "output_type": "stream",
          "text": [
            "Installing package into ‘/usr/local/lib/R/site-library’\n",
            "(as ‘lib’ is unspecified)\n",
            "\n"
          ],
          "name": "stderr"
        }
      ]
    },
    {
      "cell_type": "code",
      "metadata": {
        "id": "LkzNLKxp_LFA"
      },
      "source": [
        "library(ggplot2)"
      ],
      "execution_count": 15,
      "outputs": []
    },
    {
      "cell_type": "markdown",
      "metadata": {
        "id": "3SUc3aHbCnOn"
      },
      "source": [
        "## Plotting\n",
        "\n",
        "Colab notebooks also work well with plots! Let's create a quick one using `ggplot2` "
      ]
    },
    {
      "cell_type": "code",
      "metadata": {
        "colab": {
          "base_uri": "https://localhost:8080/",
          "height": 471
        },
        "id": "EkKXzUaOC44V",
        "outputId": "8cf96f34-2eec-4f33-bd29-149ae9a9ca5d"
      },
      "source": [
        "plot_data <- data.frame(x = 1:10, y = 11:20)\n",
        "\n",
        "ggplot(plot_data, aes(x= x, y = y)) +\n",
        "  geom_point() +\n",
        "  geom_smooth(method = \"lm\")"
      ],
      "execution_count": 16,
      "outputs": [
        {
          "output_type": "stream",
          "text": [
            "`geom_smooth()` using formula 'y ~ x'\n",
            "\n"
          ],
          "name": "stderr"
        },
        {
          "output_type": "display_data",
          "data": {
            "image/png": "[encoded data removed]",
            "text/plain": [
              "plot without title"
            ]
          },
          "metadata": {
            "tags": [],
            "image/png": {
              "width": 420,
              "height": 420
            }
          }
        }
      ]
    },
    {
      "cell_type": "markdown",
      "metadata": {
        "id": "FWmazbggDaxM"
      },
      "source": [
        "We can control the size of plots using function `options()` and setting arguments `repr.plot.width` and `repr.plot.height` "
      ]
    },
    {
      "cell_type": "code",
      "metadata": {
        "colab": {
          "base_uri": "https://localhost:8080/",
          "height": 351
        },
        "id": "3Lelj9KIDaRh",
        "outputId": "0fa21475-2e72-48bc-b9ba-ec5e4bb9de66"
      },
      "source": [
        "options(repr.plot.width = 10, repr.plot.height = 5)\n",
        "\n",
        "ggplot(plot_data, aes(x= x, y = y)) +\n",
        "  geom_point() +\n",
        "  geom_smooth(method = \"lm\")"
      ],
      "execution_count": 17,
      "outputs": [
        {
          "output_type": "stream",
          "text": [
            "`geom_smooth()` using formula 'y ~ x'\n",
            "\n"
          ],
          "name": "stderr"
        },
        {
          "output_type": "display_data",
          "data": {
            "image/png": "[encoded data removed]",
            "text/plain": [
              "plot without title"
            ]
          },
          "metadata": {
            "tags": [],
            "image/png": {
              "width": 600,
              "height": 300
            }
          }
        }
      ]
    },
    {
      "cell_type": "markdown",
      "metadata": {
        "id": "Ux1WAlyb9aIQ"
      },
      "source": [
        "## Colab Specifics\n",
        "\n",
        "All usage of Colab in this course is completely free or charge. Even GPU usage is provided free of charge for some hours of usage every day.\n",
        "\n",
        "**Using GPUs**\n",
        "* Many of the exercises in the course executes more quickly by using GPU runtime: Runtime | Change runtime type | Hardware accelerator | GPU\n",
        "\n",
        "**Some final words on Colab**\n",
        "*   You execute each cell in order, you can edit & re-execute cells if you want\n",
        "*   Sometimes, this could have unintended consequences. For example, if you add a dimension to an array and execute the cell multiple times, then the cells after may not work. If you encounter problem reset your environment:\n",
        "  *   Runtime -> Restart runtime... Resets your Python shell\n",
        "  *   Runtime -> Restart all runtimes... Will reset the Colab image, and get you back to a 100% clean environment\n",
        "* You can also clear the output in the Colab by doing: Edit -> Clear all outputs\n",
        "* Colabs in this course are loaded from GitHub. Save to your Google Drive if you want a copy with your code/output: File -> Save a copy in Drive...\n",
        "\n",
        "**Learn More**\n",
        "*   Check out [this](https://www.youtube.com/watch?v=inN8seMm7UI&list=PLQY2H8rRoyvwLbzbnKJ59NkZvQAW9wLbx&index=3) episode of #CodingTensorFlow, and don't forget to subscribe to the YouTube channel ;)\n"
      ]
    }
  ]
}