{
  "nbformat": 4,
  "nbformat_minor": 0,
  "metadata": {
    "colab": {
      "name": "R06_saving_and_loading_models.ipynb",
      "provenance": []
    },
    "kernelspec": {
      "name": "ir",
      "display_name": "R"
    },
    "accelerator": "GPU"
  },
  "cells": [
    {
      "cell_type": "code",
      "metadata": {
        "id": "DVGashPhAkOa"
      },
      "source": [
        "model %>% compile(\n",
        "  loss = loss_sparse_categorical_crossentropy,\n",
        "  optimizer = optimizer_adam(),\n",
        "  metrics = c('accuracy')\n",
        ")"
      ],
      "execution_count": null,
      "outputs": [
        {
          "output_type": "error",
          "ename": "Error",
          "evalue": "Timed out waiting to get a heartbeat from kernel process.",
          "traceback": [
            "Error: Timed out waiting to get a heartbeat from kernel process.",
            "at m.waitForHeartbeat (/Users/Anna/.vscode/extensions/ms-toolsai.jupyter-2020.12.414227025/out/client/extension.js:49:637256)"
          ]
        }
      ]
    }
  ]
}