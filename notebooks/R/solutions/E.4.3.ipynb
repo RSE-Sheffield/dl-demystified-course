{
  "nbformat": 4,
  "nbformat_minor": 0,
  "metadata": {
    "colab": {
      "name": "R06_saving_and_loading_models.ipynb",
      "provenance": []
    },
    "kernelspec": {
      "name": "ir",
      "display_name": "R"
    },
    "accelerator": "GPU"
  },
  "cells": [
    {
      "cell_type": "code",
      "metadata": {
        "id": "DVGashPhAkOa"
      },
      "source": [
        "epochs = 100\n",
        "history <- model %>%\n",
        "              fit_generator(generator = train_data_gen,\n",
        "              steps_per_epoch = as.integer(total_train / batch_size),\n",
        "              epochs = epochs,\n",
        "              validation_data = val_data_gen,\n",
        "              validation_steps = as.integer(total_val / batch_size))"
      ],
      "execution_count": null,
      "outputs": []
    }
  ]
}