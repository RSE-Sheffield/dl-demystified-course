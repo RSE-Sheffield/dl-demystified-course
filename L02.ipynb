{
 "cells": [
  {
   "cell_type": "markdown",
   "source": [
    "# Lab 2 Non-linearity & Activation"
   ],
   "metadata": {
    "collapsed": false
   }
  },
  {
   "cell_type": "markdown",
   "source": [
    "## Import dependencies\n",
    "\n",
    "Let's import all the dependencies we'll need for this lab. "
   ],
   "metadata": {
    "collapsed": false,
    "pycharm": {
     "name": "#%% md\n"
    }
   }
  },
  {
   "cell_type": "code",
   "execution_count": null,
   "outputs": [],
   "source": [
    "import math\n",
    "import tensorflow as tf\n",
    "import numpy as np\n",
    "import matplotlib.pyplot as plt\n",
    "import logging\n",
    "logger = tf.get_logger()\n",
    "logger.setLevel(logging.ERROR)"
   ],
   "metadata": {
    "collapsed": false,
    "pycharm": {
     "name": "#%%\n"
    }
   }
  },
  {
   "cell_type": "markdown",
   "source": [
    "## E2.1 - Exercise\n",
    "\n",
    "Mapping the sine wave."
   ],
   "metadata": {
    "collapsed": false,
    "pycharm": {
     "name": "#%% md\n"
    }
   }
  },
  {
   "cell_type": "code",
   "execution_count": null,
   "outputs": [],
   "source": [
    "\n",
    "num_steps = 1000\n",
    "xrange = [((2*math.pi)/num_steps)*x for x in range(num_steps)]\n",
    "xin = np.array(xrange, dtype=float)\n",
    "sine_ary = np.array([math.sin(x) for x in xrange], dtype=float)\n",
    "ssine = np.array([(s+1)*0.5 for s in sine_ary], dtype=float)\n",
    "cos_ry = np.array([math.cos(x) for x in xrange], dtype=float)\n"
   ],
   "metadata": {
    "collapsed": false,
    "pycharm": {
     "name": "#%%\n"
    }
   }
  },
  {
   "cell_type": "code",
   "execution_count": null,
   "outputs": [],
   "source": [
    "plt.plot(xrange)\n",
    "plt.plot(sine_ary)\n",
    "plt.plot(cos_ry)\n",
    "plt.plot(ssine)"
   ],
   "metadata": {
    "collapsed": false,
    "pycharm": {
     "name": "#%%\n"
    }
   }
  },
  {
   "cell_type": "code",
   "execution_count": null,
   "outputs": [],
   "source": [
    "# Predict cos \n",
    "model = tf.keras.Sequential([\n",
    "                             tf.keras.layers.Dense(units=1, input_shape=[1]),\n",
    "                             tf.keras.layers.Dense(units=128),\n",
    "                             tf.keras.layers.Dense(units=1)\n",
    "])\n",
    "model.compile(loss='mean_squared_error',\n",
    "              optimizer=tf.keras.optimizers.Adam(0.01))\n",
    "model.fit(xin, cos_ry , 16, 200, verbose=False)\n",
    "predict = model.predict(xin).flatten()\n",
    "plt.plot(predict)\n",
    "plt.plot(sine_ary)\n",
    "plt.plot(cos_ry)"
   ],
   "metadata": {
    "collapsed": false,
    "pycharm": {
     "name": "#%%\n"
    }
   }
  },
  {
   "cell_type": "code",
   "execution_count": null,
   "outputs": [],
   "source": [
    "plt.plot(sine_ary, cos_ry)"
   ],
   "metadata": {
    "collapsed": false,
    "pycharm": {
     "name": "#%%\n"
    }
   }
  },
  {
   "cell_type": "code",
   "execution_count": null,
   "outputs": [],
   "source": [
    "# Predict cos with activation\n",
    "model = tf.keras.Sequential([\n",
    "                            #  tf.keras.layers.Dense(units=1, input_shape=[1]),\n",
    "                             tf.keras.layers.Dense(units=128, activation='relu', input_shape=[1]),\n",
    "                             tf.keras.layers.Dense(units=1)\n",
    "])\n",
    "model.compile(loss='mean_squared_error',\n",
    "              optimizer=tf.keras.optimizers.Adam(0.001))\n",
    "model.fit(xin, cos_ry , 16, 200, verbose=False)\n",
    "predict = model.predict(xin).flatten()\n",
    "plt.plot(xin,predict)\n",
    "plt.plot(xin, cos_ry)"
   ],
   "metadata": {
    "collapsed": false,
    "pycharm": {
     "name": "#%%\n"
    }
   }
  },
  {
   "cell_type": "code",
   "execution_count": null,
   "outputs": [],
   "source": [
    "plt.plot(xin,predict)\n",
    "plt.plot(xin, sine_ary)\n",
    "plt.plot(xin, cos_ry)"
   ],
   "metadata": {
    "collapsed": false,
    "pycharm": {
     "name": "#%%\n"
    }
   }
  },
  {
   "cell_type": "code",
   "execution_count": null,
   "outputs": [],
   "source": [
    "# Predict pi\n",
    "model = tf.keras.Sequential([\n",
    "                             tf.keras.layers.Dense(units=1, input_shape=[1]),\n",
    "                             tf.keras.layers.Dense(units=128, activation='relu'),\n",
    "                             tf.keras.layers.Dense(units=1)\n",
    "])\n",
    "model.compile(loss='mean_squared_error',\n",
    "              optimizer=tf.keras.optimizers.Adam(0.01))\n",
    "model.fit(cos_ry, xin  , 16, 200)\n",
    "predict = model.predict(cos_ry).flatten()\n",
    "plt.plot(predict)\n",
    "plt.plot(sine_ary)\n",
    "plt.plot(cos_ry)"
   ],
   "metadata": {
    "collapsed": false,
    "pycharm": {
     "name": "#%%\n"
    }
   }
  },
  {
   "cell_type": "code",
   "execution_count": null,
   "outputs": [],
   "source": [],
   "metadata": {
    "collapsed": false,
    "pycharm": {
     "name": "#%%\n"
    }
   }
  }
 ],
 "metadata": {
  "kernelspec": {
   "display_name": "Python 3",
   "language": "python",
   "name": "python3"
  },
  "language_info": {
   "codemirror_mode": {
    "name": "ipython",
    "version": 2
   },
   "file_extension": ".py",
   "mimetype": "text/x-python",
   "name": "python",
   "nbconvert_exporter": "python",
   "pygments_lexer": "ipython2",
   "version": "2.7.6"
  },
  "pycharm": {
   "stem_cell": {
    "cell_type": "raw",
    "source": [],
    "metadata": {
     "collapsed": false
    }
   }
  }
 },
 "nbformat": 4,
 "nbformat_minor": 0
}
