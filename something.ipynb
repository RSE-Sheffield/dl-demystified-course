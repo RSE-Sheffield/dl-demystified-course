{
 "cells": [
  {
   "cell_type": "markdown",
   "metadata": {},
   "source": [
    "##### Copyright 2018 The TensorFlow Authors."
   ]
  },
  {
   "cell_type": "code",
   "execution_count": 1,
   "metadata": {},
   "outputs": [],
   "source": [
    "#@title Licensed under the Apache License, Version 2.0 (the \"License\");\n",
    "# you may not use this file except in compliance with the License.\n",
    "# You may obtain a copy of the License at\n",
    "#\n",
    "# https://www.apache.org/licenses/LICENSE-2.0\n",
    "#\n",
    "# Unless required by applicable law or agreed to in writing, software\n",
    "# distributed under the License is distributed on an \"AS IS\" BASIS,\n",
    "# WITHOUT WARRANTIES OR CONDITIONS OF ANY KIND, either express or implied.\n",
    "# See the License for the specific language governing permissions and\n",
    "# limitations under the License."
   ]
  },
  {
   "cell_type": "markdown",
   "metadata": {},
   "source": [
    "# Lab 1 The Basics: Training Your First Model\n",
    "\n",
    "<table class=\"tfo-notebook-buttons\" align=\"left\">\n",
    "  <td>\n",
    "    <a target=\"_blank\"\n",
    "href=\"https://colab.research.google.com/github/twinkarma/jadedl/\"><img\n",
    "src=\"https://www.tensorflow.org/images/colab_logo_32px.png\" />Run in Google\n",
    "Colab</a>\n",
    "  </td>\n",
    "  <td>\n",
    "    <a target=\"_blank\"\n",
    "href=\"https://github.com/tensorflow/examples/blob/master/courses/udacity_intro_to_tensorflow_for_deep_learning/l02c01_celsius_to_fahrenheit.ipynb\"><img\n",
    "src=\"https://www.tensorflow.org/images/GitHub-Mark-32px.png\" />View source on\n",
    "GitHub</a>\n",
    "  </td>\n",
    "</table>\n",
    "\n",
    "Welcome to this Colab where you will train your first Machine Learning model!\n",
    "We'll try to keep things simple here, and only introduce basic concepts. Later\n",
    "Colabs will cover more advanced problems.\n",
    "\n",
    "The problem we will solve is to\n",
    "convert from Celsius to Fahrenheit, where the approximate formula is:\n",
    "\n",
    "$$ f = c\n",
    "\\times 1.8 + 32 $$\n",
    "\n",
    "\n",
    "Of course, it would be simple enough to create a\n",
    "conventional Python function that directly performs this calculation, but that\n",
    "wouldn't be machine learning.\n",
    "\n",
    "\n",
    "Instead, we will give TensorFlow some sample\n",
    "Celsius values (0, 8, 15, 22, 38) and their corresponding Fahrenheit values (32,\n",
    "46, 59, 72, 100).\n",
    "Then, we will train a model that figures out the above formula\n",
    "through the training process.\n",
    "\n",
    "## Import dependencies\n",
    "\n",
    "First, import TensorFlow. Here, we're calling it `tf`\n",
    "for ease of use. We also tell it to only display errors.\n",
    "\n",
    "Next, import\n",
    "[NumPy](http://www.numpy.org/) as `np`. Numpy helps us to represent our data as\n",
    "highly performant lists."
   ]
  },
  {
   "cell_type": "code",
   "execution_count": 2,
   "metadata": {},
   "outputs": [],
   "source": [
    "import tensorflow as tf"
   ]
  },
  {
   "cell_type": "code",
   "execution_count": 3,
   "metadata": {},
   "outputs": [],
   "source": [
    "import numpy as np\n",
    "import logging\n",
    "logger = tf.get_logger()\n",
    "logger.setLevel(logging.ERROR)"
   ]
  },
  {
   "cell_type": "markdown",
   "metadata": {},
   "source": [
    "## Set up training data\n",
    "\n",
    "As we saw before, supervised Machine Learning is all\n",
    "about figuring out an algorithm given a set of inputs and outputs. Since the\n",
    "task in this Codelab is to create a model that can give the temperature in\n",
    "Fahrenheit when given the degrees in Celsius, we create two lists `celsius_q`\n",
    "and `fahrenheit_a` that we can use to train our model."
   ]
  },
  {
   "cell_type": "code",
   "execution_count": 4,
   "metadata": {},
   "outputs": [
    {
     "name": "stdout",
     "output_type": "stream",
     "text": [
      "-40.0 degrees Celsius = -40.0 degrees Fahrenheit\n",
      "-10.0 degrees Celsius = 14.0 degrees Fahrenheit\n",
      "0.0 degrees Celsius = 32.0 degrees Fahrenheit\n",
      "8.0 degrees Celsius = 46.0 degrees Fahrenheit\n",
      "15.0 degrees Celsius = 59.0 degrees Fahrenheit\n",
      "22.0 degrees Celsius = 72.0 degrees Fahrenheit\n",
      "38.0 degrees Celsius = 100.0 degrees Fahrenheit\n"
     ]
    }
   ],
   "source": [
    "celsius_q    = np.array([-40, -10,  0,  8, 15, 22,  38],  dtype=float)\n",
    "fahrenheit_a = np.array([-40,  14, 32, 46, 59, 72, 100],  dtype=float)\n",
    "\n",
    "for i,c in enumerate(celsius_q):\n",
    "  print(\"{} degrees Celsius = {} degrees Fahrenheit\".format(c, fahrenheit_a[i]))"
   ]
  },
  {
   "cell_type": "markdown",
   "metadata": {},
   "source": [
    "### Some Machine Learning terminology\n",
    "\n",
    " - **Feature** — The input(s) to our\n",
    "model. In this case, a single value — the degrees in Celsius.\n",
    "\n",
    " - **Labels** —\n",
    "The output our model predicts. In this case, a single value — the degrees in\n",
    "Fahrenheit.\n",
    "\n",
    " - **Example** — A pair of inputs/outputs used during training. In\n",
    "our case a pair of values from `celsius_q` and `fahrenheit_a` at a specific\n",
    "index, such as `(22,72)`.\n",
    "\n",
    "## Create the model\n",
    "\n",
    "Next, create the model. We will use the simplest possible\n",
    "model we can, a Dense network. Since the problem is straightforward, this\n",
    "network will require only a single layer, with a single neuron.\n",
    "\n",
    "### Build a\n",
    "layer\n",
    "\n",
    "We'll call the layer `l0` and create it by instantiating\n",
    "`tf.keras.layers.Dense` with the following configuration:\n",
    "\n",
    "*   `input_shape=[1]`\n",
    "— This specifies that the input to this layer is a single value. That is, the\n",
    "shape is a one-dimensional array with one member. Since this is the first (and\n",
    "only) layer, that input shape is the input shape of the entire model. The single\n",
    "value is a floating point number, representing degrees Celsius.\n",
    "\n",
    "*   `units=1` —\n",
    "This specifies the number of neurons in the layer. The number of neurons defines\n",
    "how many internal variables the layer has to try to learn how to solve the\n",
    "problem (more later). Since this is the final layer, it is also the size of the\n",
    "model's output — a single float value representing degrees Fahrenheit. (In a\n",
    "multi-layered network, the size and shape of the layer would need to match the\n",
    "`input_shape` of the next layer.)"
   ]
  },
  {
   "cell_type": "code",
   "execution_count": 5,
   "metadata": {},
   "outputs": [],
   "source": [
    "l0 = tf.keras.layers.Dense(units=1, input_shape=[1])"
   ]
  },
  {
   "cell_type": "markdown",
   "metadata": {},
   "source": [
    "### Assemble layers into the model\n",
    "\n",
    "Once layers are defined, they need to be\n",
    "assembled into a model. The Sequential model definition takes a list of layers\n",
    "as an argument, specifying the calculation order from the input to the output.\n",
    "This model has just a single layer, l0."
   ]
  },
  {
   "cell_type": "code",
   "execution_count": 6,
   "metadata": {},
   "outputs": [],
   "source": [
    "model = tf.keras.Sequential([l0])"
   ]
  },
  {
   "cell_type": "markdown",
   "metadata": {},
   "source": [
    "**Note**\n",
    "\n",
    "You will often see the layers defined inside the model definition,\n",
    "rather than beforehand:"
   ]
  },
  {
   "cell_type": "code",
   "execution_count": 7,
   "metadata": {},
   "outputs": [],
   "source": [
    "model = tf.keras.Sequential([\n",
    "tf.keras.layers.Dense(units=1, input_shape=[1])\n",
    "])"
   ]
  },
  {
   "cell_type": "markdown",
   "metadata": {},
   "source": [
    "## Compile the model, with loss and optimizer functions\n",
    "\n",
    "Before training, the\n",
    "model has to be compiled. When compiled for training, the model is given:\n",
    "\n",
    "-\n",
    "**Loss function** — A way of measuring how far off predictions are from the\n",
    "desired outcome. (The measured difference is called the \"loss\".)\n",
    "\n",
    "- **Optimizer\n",
    "function** — A way of adjusting internal values in order to reduce the loss."
   ]
  },
  {
   "cell_type": "code",
   "execution_count": 8,
   "metadata": {},
   "outputs": [],
   "source": [
    "model.compile(loss='mean_squared_error',\n",
    "              optimizer=tf.keras.optimizers.Adam(0.1))"
   ]
  },
  {
   "cell_type": "markdown",
   "metadata": {},
   "source": [
    "These are used during training (`model.fit()`, below) to first calculate the\n",
    "loss at each point, and then improve it. In fact, the act of calculating the\n",
    "current loss of a model and then improving it is precisely what training is.\n",
    "During training, the optimizer function is used to calculate adjustments to the\n",
    "model's internal variables. The goal is to adjust the internal variables until\n",
    "the model (which is really a math function) mirrors the actual equation for\n",
    "converting Celsius to Fahrenheit.\n",
    "\n",
    "TensorFlow uses numerical analysis to perform\n",
    "this tuning, and all this complexity is hidden from you so we will not go into\n",
    "the details here. What is useful to know about these parameters are:\n",
    "\n",
    "The loss\n",
    "function ([mean squared\n",
    "error](https://en.wikipedia.org/wiki/Mean_squared_error)) and the optimizer\n",
    "([Adam](https://machinelearningmastery.com/adam-optimization-algorithm-for-deep-\n",
    "learning/)) used here are standard for simple models like this one, but many\n",
    "others are available. It is not important to know how these specific functions\n",
    "work at this point.\n",
    "\n",
    "One part of the Optimizer you may need to think about when\n",
    "building your own models is the learning rate (`0.1` in the code above). This is\n",
    "the step size taken when adjusting values in the model. If the value is too\n",
    "small, it will take too many iterations to train the model. Too large, and\n",
    "accuracy goes down. Finding a good value often involves some trial and error,\n",
    "but the range is usually within 0.001 (default), and 0.1\n",
    "\n",
    "## Train the model\n",
    "\n",
    "Train the model by calling the `fit` method.\n",
    "\n",
    "During\n",
    "training, the model takes in Celsius values, performs a calculation using the\n",
    "current internal variables (called \"weights\") and outputs values which are meant\n",
    "to be the Fahrenheit equivalent. Since the weights are initially set randomly,\n",
    "the output will not be close to the correct value. The difference between the\n",
    "actual output and the desired output is calculated using the loss function, and\n",
    "the optimizer function directs how the weights should be adjusted.\n",
    "\n",
    "This cycle\n",
    "of calculate, compare, adjust is controlled by the `fit` method. The first\n",
    "argument is the inputs, the second argument is the desired outputs. The `epochs`\n",
    "argument specifies how many times this cycle should be run, and the `verbose`\n",
    "argument controls how much output the method produces."
   ]
  },
  {
   "cell_type": "code",
   "execution_count": 9,
   "metadata": {},
   "outputs": [
    {
     "name": "stdout",
     "output_type": "stream",
     "text": [
      "Finished training the model\n"
     ]
    }
   ],
   "source": [
    "history = model.fit(celsius_q, fahrenheit_a, epochs=500, verbose=False)\n",
    "print(\"Finished training the model\")"
   ]
  },
  {
   "cell_type": "markdown",
   "metadata": {},
   "source": [
    "In later videos, we will go into more detail on what actually happens here and\n",
    "how a Dense layer actually works internally.\n",
    "\n",
    "## Display training statistics\n",
    "\n",
    "The `fit` method returns a history object. We\n",
    "can use this object to plot how the loss of our model goes down after each\n",
    "training epoch. A high loss means that the Fahrenheit degrees the model predicts\n",
    "is far from the corresponding value in `fahrenheit_a`.\n",
    "\n",
    "We'll use\n",
    "[Matplotlib](https://matplotlib.org/) to visualize this (you could use another\n",
    "tool). As you can see, our model improves very quickly at first, and then has a\n",
    "steady, slow improvement until it is very near \"perfect\" towards the end."
   ]
  },
  {
   "cell_type": "code",
   "execution_count": 10,
   "metadata": {},
   "outputs": [
    {
     "data": {
      "text/plain": [
       "[<matplotlib.lines.Line2D at 0x7fe7e8074f90>]"
      ]
     },
     "execution_count": 10,
     "metadata": {},
     "output_type": "execute_result"
    },
    {
     "data": {
      "image/png": "[encoded data removed]",
      "text/plain": [
       "<Figure size 432x288 with 1 Axes>"
      ]
     },
     "metadata": {
      "needs_background": "light"
     },
     "output_type": "display_data"
    }
   ],
   "source": [
    "import matplotlib.pyplot as plt\n",
    "plt.xlabel('Epoch Number')\n",
    "plt.ylabel(\"Loss Magnitude\")\n",
    "plt.plot(history.history['loss'])"
   ]
  },
  {
   "cell_type": "markdown",
   "metadata": {},
   "source": [
    "## Use the model to predict values\n",
    "\n",
    "Now you have a model that has been trained\n",
    "to learn the relationship between `celsius_q` and `fahrenheit_a`. You can use\n",
    "the predict method to have it calculate the Fahrenheit degrees for a previously\n",
    "unknown Celsius degrees.\n",
    "\n",
    "So, for example, if the Celsius value is 100, what do\n",
    "you think the Fahrenheit result will be? Take a guess before you run this code."
   ]
  },
  {
   "cell_type": "code",
   "execution_count": 11,
   "metadata": {},
   "outputs": [
    {
     "name": "stdout",
     "output_type": "stream",
     "text": [
      "[[211.33386]]\n"
     ]
    }
   ],
   "source": [
    "print(model.predict([100.0]))"
   ]
  },
  {
   "cell_type": "markdown",
   "metadata": {},
   "source": [
    "The correct answer is $100 \\times 1.8 + 32 = 212$, so our model is doing really\n",
    "well.\n",
    "\n",
    "### To review\n",
    "\n",
    "\n",
    "*   We created a model with a Dense layer\n",
    "*   We trained\n",
    "it with 3500 examples (7 pairs, over 500 epochs).\n",
    "\n",
    "Our model tuned the variables\n",
    "(weights) in the Dense layer until it was able to return the correct Fahrenheit\n",
    "value for any Celsius value.\n",
    " (Remember, 100 Celsius was not part of our\n",
    "training data.)\n",
    "\n",
    "## Looking at the layer weights\n",
    "\n",
    "Finally, let's print the internal variables of\n",
    "the Dense layer."
   ]
  },
  {
   "cell_type": "code",
   "execution_count": 12,
   "metadata": {},
   "outputs": [
    {
     "name": "stdout",
     "output_type": "stream",
     "text": [
      "These are the layer variables: [array([[0.29661548]], dtype=float32), array([0.], dtype=float32)]\n"
     ]
    }
   ],
   "source": [
    "print(\"These are the layer variables: {}\".format(l0.get_weights()))"
   ]
  },
  {
   "cell_type": "markdown",
   "metadata": {},
   "source": [
    "The first variable is close to ~1.8 and the second to ~32. These values (1.8 and\n",
    "32) are the actual variables in the real conversion formula.\n",
    "\n",
    "This is really\n",
    "close to the values in the conversion formula. We'll explain this in an upcoming\n",
    "video where we show how a Dense layer works, but for a single neuron with a\n",
    "single input and a single output, the internal math looks the same as [the\n",
    "equation for a\n",
    "line](https://en.wikipedia.org/wiki/Linear_equation#Slope%E2%80%93intercept_form),\n",
    "$y = mx + b$, which has the same form as the conversion equation, $f = 1.8c +\n",
    "32$.\n",
    "\n",
    "Since the form is the same, the variables should converge on the standard\n",
    "values of 1.8 and 32, which is exactly what happened.\n",
    "\n",
    "With additional neurons,\n",
    "additional inputs, and additional outputs, the formula becomes much more\n",
    "complex, but the idea is the same.\n",
    "\n",
    "### A little experiment\n",
    "\n",
    "Just for fun, what\n",
    "if we created more Dense layers with different units, which therefore also has\n",
    "more variables?"
   ]
  },
  {
   "cell_type": "code",
   "execution_count": 13,
   "metadata": {},
   "outputs": [
    {
     "name": "stdout",
     "output_type": "stream",
     "text": [
      "Finished training the model\n",
      "[[211.74742]]\n",
      "Model predicts that 100 degrees Celsius is: [[211.74742]] degrees Fahrenheit\n",
      "These are the l0 variables: [array([[-0.25043005,  0.55770665,  1.16613   , -0.19539422]],\n",
      "      dtype=float32), array([ 2.6824658, -1.6660684,  3.9428465, -0.505826 ], dtype=float32)]\n",
      "These are the l1 variables: [array([[-0.07539187,  1.1113054 ,  0.7133202 , -0.25486588],\n",
      "       [ 1.4037719 ,  0.02480386, -0.24339633,  0.3807164 ],\n",
      "       [-1.1249424 ,  0.40416533,  0.9213548 , -0.95417863],\n",
      "       [ 0.1979261 , -0.19410306, -0.15613753, -0.31924817]],\n",
      "      dtype=float32), array([-3.6913705,  4.054141 ,  3.3811226, -3.22144  ], dtype=float32)]\n",
      "These are the l2 variables: [array([[-0.77529615],\n",
      "       [ 0.75503916],\n",
      "       [ 0.752335  ],\n",
      "       [-0.7659341 ]], dtype=float32), array([3.7305498], dtype=float32)]\n"
     ]
    }
   ],
   "source": [
    "l0 = tf.keras.layers.Dense(units=4, input_shape=[1])\n",
    "l1 = tf.keras.layers.Dense(units=4)\n",
    "l2 = tf.keras.layers.Dense(units=1)\n",
    "model = tf.keras.Sequential([l0, l1, l2])\n",
    "model.compile(loss='mean_squared_error', optimizer=tf.keras.optimizers.Adam(0.1))\n",
    "model.fit(celsius_q, fahrenheit_a, epochs=500, verbose=False)\n",
    "print(\"Finished training the model\")\n",
    "print(model.predict([100.0]))\n",
    "print(\"Model predicts that 100 degrees Celsius is: {} degrees Fahrenheit\".format(model.predict([100.0])))\n",
    "print(\"These are the l0 variables: {}\".format(l0.get_weights()))\n",
    "print(\"These are the l1 variables: {}\".format(l1.get_weights()))\n",
    "print(\"These are the l2 variables: {}\".format(l2.get_weights()))"
   ]
  },
  {
   "cell_type": "markdown",
   "metadata": {},
   "source": [
    "As you can see, this model is also able to predict the corresponding Fahrenheit\n",
    "value really well. But when you look at the variables (weights) in the `l0` and\n",
    "`l1` layers, they are nothing even close to ~1.8 and ~32. The added complexity\n",
    "hides the \"simple\" form of the conversion equation.\n",
    "\n",
    "## E1.1 - Exercise: Linear regression"
   ]
  },
  {
   "cell_type": "code",
   "execution_count": 14,
   "metadata": {},
   "outputs": [
    {
     "data": {
      "text/plain": [
       "[<matplotlib.lines.Line2D at 0x7fe7a86ed190>]"
      ]
     },
     "execution_count": 14,
     "metadata": {},
     "output_type": "execute_result"
    },
    {
     "data": {
      "image/png": "[encoded data removed]",
      "text/plain": [
       "<Figure size 432x288 with 1 Axes>"
      ]
     },
     "metadata": {
      "needs_background": "light"
     },
     "output_type": "display_data"
    }
   ],
   "source": [
    "import matplotlib.pyplot as plt\n",
    "\n",
    "# We're trying to map our model to the equation y = 3x + 2, with random noise added\n",
    "num_steps = 30\n",
    "x_set = np.arange(num_steps, dtype=\"float\")\n",
    "y_set = [ 3*x + 2 for x in x_set] + (np.random.rand(num_steps)-0.5)*20\n",
    "\n",
    "# Let's plot our dataset\n",
    "plt.plot(x_set, y_set, 'ro')"
   ]
  },
  {
   "cell_type": "code",
   "execution_count": 15,
   "metadata": {},
   "outputs": [
    {
     "name": "stdout",
     "output_type": "stream",
     "text": [
      "Train on 30 samples\n",
      "Epoch 1/100\n",
      "30/30 [==============================] - 0s 9ms/sample - loss: 464.7851\n",
      "Epoch 2/100\n",
      "30/30 [==============================] - 0s 351us/sample - loss: 92.0657\n",
      "Epoch 3/100\n",
      "30/30 [==============================] - 0s 368us/sample - loss: 30.5216\n",
      "Epoch 4/100\n",
      "30/30 [==============================] - 0s 356us/sample - loss: 52.4749\n",
      "Epoch 5/100\n",
      "30/30 [==============================] - 0s 381us/sample - loss: 41.4147\n",
      "Epoch 6/100\n",
      "30/30 [==============================] - 0s 348us/sample - loss: 27.6615\n",
      "Epoch 7/100\n",
      "30/30 [==============================] - 0s 343us/sample - loss: 29.3993\n",
      "Epoch 8/100\n",
      "30/30 [==============================] - 0s 336us/sample - loss: 29.4498\n",
      "Epoch 9/100\n",
      "30/30 [==============================] - 0s 329us/sample - loss: 28.5339\n",
      "Epoch 10/100\n",
      "30/30 [==============================] - 0s 352us/sample - loss: 28.7388\n",
      "Epoch 11/100\n",
      "30/30 [==============================] - 0s 328us/sample - loss: 28.7003\n",
      "Epoch 12/100\n",
      "30/30 [==============================] - 0s 354us/sample - loss: 28.3209\n",
      "Epoch 13/100\n",
      "30/30 [==============================] - 0s 349us/sample - loss: 28.5408\n",
      "Epoch 14/100\n",
      "30/30 [==============================] - 0s 336us/sample - loss: 28.3314\n",
      "Epoch 15/100\n",
      "30/30 [==============================] - 0s 343us/sample - loss: 30.2118\n",
      "Epoch 16/100\n",
      "30/30 [==============================] - 0s 340us/sample - loss: 28.7621\n",
      "Epoch 17/100\n",
      "30/30 [==============================] - 0s 337us/sample - loss: 28.1917\n",
      "Epoch 18/100\n",
      "30/30 [==============================] - 0s 355us/sample - loss: 27.9797\n",
      "Epoch 19/100\n",
      "30/30 [==============================] - 0s 359us/sample - loss: 28.1163\n",
      "Epoch 20/100\n",
      "30/30 [==============================] - 0s 355us/sample - loss: 28.1540\n",
      "Epoch 21/100\n",
      "30/30 [==============================] - 0s 351us/sample - loss: 28.9884\n",
      "Epoch 22/100\n",
      "30/30 [==============================] - 0s 343us/sample - loss: 28.4250\n",
      "Epoch 23/100\n",
      "30/30 [==============================] - 0s 348us/sample - loss: 28.1871\n",
      "Epoch 24/100\n",
      "30/30 [==============================] - 0s 356us/sample - loss: 28.4840\n",
      "Epoch 25/100\n",
      "30/30 [==============================] - 0s 347us/sample - loss: 30.2649\n",
      "Epoch 26/100\n",
      "30/30 [==============================] - 0s 345us/sample - loss: 28.0256\n",
      "Epoch 27/100\n",
      "30/30 [==============================] - 0s 358us/sample - loss: 27.8794\n",
      "Epoch 28/100\n",
      "30/30 [==============================] - 0s 340us/sample - loss: 28.0187\n",
      "Epoch 29/100\n",
      "30/30 [==============================] - 0s 386us/sample - loss: 28.2966\n",
      "Epoch 30/100\n",
      "30/30 [==============================] - 0s 344us/sample - loss: 28.0089\n",
      "Epoch 31/100\n",
      "30/30 [==============================] - 0s 368us/sample - loss: 28.4091\n",
      "Epoch 32/100\n",
      "30/30 [==============================] - 0s 342us/sample - loss: 28.4188\n",
      "Epoch 33/100\n",
      "30/30 [==============================] - 0s 339us/sample - loss: 30.8895\n",
      "Epoch 34/100\n",
      "30/30 [==============================] - 0s 340us/sample - loss: 29.0298\n",
      "Epoch 35/100\n",
      "30/30 [==============================] - 0s 337us/sample - loss: 28.0840\n",
      "Epoch 36/100\n",
      "30/30 [==============================] - 0s 361us/sample - loss: 29.6141\n",
      "Epoch 37/100\n",
      "30/30 [==============================] - 0s 347us/sample - loss: 28.8468\n",
      "Epoch 38/100\n",
      "30/30 [==============================] - 0s 364us/sample - loss: 29.0535\n",
      "Epoch 39/100\n",
      "30/30 [==============================] - 0s 443us/sample - loss: 27.9845\n",
      "Epoch 40/100\n",
      "30/30 [==============================] - 0s 356us/sample - loss: 28.5378\n",
      "Epoch 41/100\n",
      "30/30 [==============================] - 0s 333us/sample - loss: 28.0229\n",
      "Epoch 42/100\n",
      "30/30 [==============================] - 0s 341us/sample - loss: 30.7442\n",
      "Epoch 43/100\n",
      "30/30 [==============================] - 0s 375us/sample - loss: 27.8605\n",
      "Epoch 44/100\n",
      "30/30 [==============================] - 0s 472us/sample - loss: 29.3088\n",
      "Epoch 45/100\n",
      "30/30 [==============================] - 0s 342us/sample - loss: 29.1592\n",
      "Epoch 46/100\n",
      "30/30 [==============================] - 0s 387us/sample - loss: 28.3019\n",
      "Epoch 47/100\n",
      "30/30 [==============================] - 0s 337us/sample - loss: 28.6615\n",
      "Epoch 48/100\n",
      "30/30 [==============================] - 0s 338us/sample - loss: 27.9775\n",
      "Epoch 49/100\n",
      "30/30 [==============================] - 0s 376us/sample - loss: 28.2828\n",
      "Epoch 50/100\n",
      "30/30 [==============================] - 0s 353us/sample - loss: 27.9692\n",
      "Epoch 51/100\n",
      "30/30 [==============================] - 0s 354us/sample - loss: 29.1409\n",
      "Epoch 52/100\n",
      "30/30 [==============================] - 0s 355us/sample - loss: 30.9810\n",
      "Epoch 53/100\n",
      "30/30 [==============================] - 0s 370us/sample - loss: 31.9121\n",
      "Epoch 54/100\n",
      "30/30 [==============================] - 0s 446us/sample - loss: 29.8720\n",
      "Epoch 55/100\n",
      "30/30 [==============================] - 0s 391us/sample - loss: 28.4100\n",
      "Epoch 56/100\n",
      "30/30 [==============================] - 0s 408us/sample - loss: 28.6450\n",
      "Epoch 57/100\n",
      "30/30 [==============================] - 0s 415us/sample - loss: 29.4941\n",
      "Epoch 58/100\n",
      "30/30 [==============================] - 0s 328us/sample - loss: 27.8849\n",
      "Epoch 59/100\n",
      "30/30 [==============================] - 0s 355us/sample - loss: 28.1910\n",
      "Epoch 60/100\n",
      "30/30 [==============================] - 0s 348us/sample - loss: 28.2322\n",
      "Epoch 61/100\n",
      "30/30 [==============================] - 0s 338us/sample - loss: 28.3663\n",
      "Epoch 62/100\n",
      "30/30 [==============================] - 0s 337us/sample - loss: 29.6046\n",
      "Epoch 63/100\n",
      "30/30 [==============================] - 0s 338us/sample - loss: 28.6828\n",
      "Epoch 64/100\n",
      "30/30 [==============================] - 0s 337us/sample - loss: 28.5431\n",
      "Epoch 65/100\n",
      "30/30 [==============================] - 0s 340us/sample - loss: 28.3082\n",
      "Epoch 66/100\n",
      "30/30 [==============================] - 0s 346us/sample - loss: 28.8342\n",
      "Epoch 67/100\n",
      "30/30 [==============================] - 0s 332us/sample - loss: 28.3854\n",
      "Epoch 68/100\n",
      "30/30 [==============================] - 0s 344us/sample - loss: 27.7807\n",
      "Epoch 69/100\n",
      "30/30 [==============================] - 0s 344us/sample - loss: 28.6711\n",
      "Epoch 70/100\n",
      "30/30 [==============================] - 0s 347us/sample - loss: 27.9115\n",
      "Epoch 71/100\n",
      "30/30 [==============================] - 0s 349us/sample - loss: 28.0159\n",
      "Epoch 72/100\n",
      "30/30 [==============================] - 0s 340us/sample - loss: 28.9088\n",
      "Epoch 73/100\n",
      "30/30 [==============================] - 0s 334us/sample - loss: 28.7837\n",
      "Epoch 74/100\n",
      "30/30 [==============================] - 0s 350us/sample - loss: 28.1503\n",
      "Epoch 75/100\n",
      "30/30 [==============================] - 0s 335us/sample - loss: 28.1273\n",
      "Epoch 76/100\n",
      "30/30 [==============================] - 0s 356us/sample - loss: 27.9687\n",
      "Epoch 77/100\n",
      "30/30 [==============================] - 0s 336us/sample - loss: 28.3128\n",
      "Epoch 78/100\n",
      "30/30 [==============================] - 0s 329us/sample - loss: 28.3340\n",
      "Epoch 79/100\n",
      "30/30 [==============================] - 0s 355us/sample - loss: 29.0121\n",
      "Epoch 80/100\n",
      "30/30 [==============================] - 0s 373us/sample - loss: 31.2062\n",
      "Epoch 81/100\n",
      "30/30 [==============================] - 0s 344us/sample - loss: 28.2310\n",
      "Epoch 82/100\n",
      "30/30 [==============================] - 0s 354us/sample - loss: 29.0906\n",
      "Epoch 83/100\n",
      "30/30 [==============================] - 0s 351us/sample - loss: 27.4271\n",
      "Epoch 84/100\n",
      "30/30 [==============================] - 0s 347us/sample - loss: 33.2805\n",
      "Epoch 85/100\n",
      "30/30 [==============================] - 0s 349us/sample - loss: 27.7761\n",
      "Epoch 86/100\n",
      "30/30 [==============================] - 0s 362us/sample - loss: 28.9216\n",
      "Epoch 87/100\n",
      "30/30 [==============================] - 0s 351us/sample - loss: 27.8462\n",
      "Epoch 88/100\n",
      "30/30 [==============================] - 0s 347us/sample - loss: 27.9207\n",
      "Epoch 89/100\n",
      "30/30 [==============================] - 0s 488us/sample - loss: 28.0866\n",
      "Epoch 90/100\n",
      "30/30 [==============================] - 0s 336us/sample - loss: 27.8889\n",
      "Epoch 91/100\n",
      "30/30 [==============================] - 0s 342us/sample - loss: 28.1693\n",
      "Epoch 92/100\n",
      "30/30 [==============================] - 0s 346us/sample - loss: 28.4691\n",
      "Epoch 93/100\n",
      "30/30 [==============================] - 0s 355us/sample - loss: 28.4543\n",
      "Epoch 94/100\n",
      "30/30 [==============================] - 0s 339us/sample - loss: 28.3438\n",
      "Epoch 95/100\n",
      "30/30 [==============================] - 0s 348us/sample - loss: 27.9096\n",
      "Epoch 96/100\n"
     ]
    },
    {
     "name": "stdout",
     "output_type": "stream",
     "text": [
      "30/30 [==============================] - 0s 352us/sample - loss: 28.5325\n",
      "Epoch 97/100\n",
      "30/30 [==============================] - 0s 348us/sample - loss: 27.9700\n",
      "Epoch 98/100\n",
      "30/30 [==============================] - 0s 353us/sample - loss: 29.0051\n",
      "Epoch 99/100\n",
      "30/30 [==============================] - 0s 357us/sample - loss: 28.1796\n",
      "Epoch 100/100\n",
      "30/30 [==============================] - 0s 373us/sample - loss: 28.7162\n"
     ]
    },
    {
     "data": {
      "text/plain": [
       "<tensorflow.python.keras.callbacks.History at 0x7fe7a8764090>"
      ]
     },
     "execution_count": 15,
     "metadata": {},
     "output_type": "execute_result"
    }
   ],
   "source": [
    "#TODO - Create, compile and train the a model to fit the data\n",
    "l0 = tf.keras.layers.Dense(units=1, input_shape=[1])\n",
    "model = tf.keras.Sequential([l0])\n",
    "\n",
    "model.compile(loss='mean_squared_error',\n",
    "              optimizer=tf.keras.optimizers.Adam(0.1))\n",
    "\n",
    "model.fit(x_set, y_set, batch_size=4, epochs=100)"
   ]
  },
  {
   "cell_type": "code",
   "execution_count": 16,
   "metadata": {},
   "outputs": [
    {
     "name": "stdout",
     "output_type": "stream",
     "text": [
      "[array([[3.0411317]], dtype=float32), array([2.716425], dtype=float32)]\n"
     ]
    },
    {
     "data": {
      "image/png": "[encoded data removed]",
      "text/plain": [
       "<Figure size 432x288 with 1 Axes>"
      ]
     },
     "metadata": {
      "needs_background": "light"
     },
     "output_type": "display_data"
    }
   ],
   "source": [
    "prediction = model.predict(x_set).flatten()\n",
    "plt.plot(x_set, y_set, 'ro')\n",
    "plt.plot(prediction)\n",
    "print(l0.get_weights())"
   ]
  },
  {
   "cell_type": "code",
   "execution_count": null,
   "metadata": {},
   "outputs": [],
   "source": [
    "\n"
   ]
  }
 ],
 "metadata": {
  "kernelspec": {
   "display_name": "Python 3",
   "language": "python",
   "name": "python3"
  },
  "language_info": {
   "codemirror_mode": {
    "name": "ipython",
    "version": 3
   },
   "file_extension": ".py",
   "mimetype": "text/x-python",
   "name": "python",
   "nbconvert_exporter": "python",
   "pygments_lexer": "ipython3",
   "version": "3.7.6"
  }
 },
 "nbformat": 4,
 "nbformat_minor": 4
}
